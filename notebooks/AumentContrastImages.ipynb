{
 "cells": [
  {
   "cell_type": "code",
   "execution_count": 24,
   "metadata": {},
   "outputs": [
    {
     "name": "stdout",
     "output_type": "stream",
     "text": [
      "Loading class names...\n"
     ]
    }
   ],
   "source": [
    "import os\n",
    "import json\n",
    "import numpy as np\n",
    "\n",
    "from imgclas.data_utils import load_image, load_class_names\n",
    "from imgclas import paths, plot_utils\n",
    "\n",
    "from imgclas import test_utils\n",
    "from sklearn.metrics import accuracy_score, precision_score, recall_score, f1_score\n",
    "from sklearn.metrics import confusion_matrix\n",
    "\n",
    "import warnings\n",
    "warnings.filterwarnings(\"ignore\") # To ignore UndefinedMetricWarning: [Recall/Precision/F-Score] is ill-defined and being set to 0.0 in labels with no [true/predicted] samples.\n",
    "\n",
    "# User parameters to set\n",
    "# timestamp = ['2022-03-22_TortSp1_50ep_4Batch', '2022-03-23_TortSp2_50ep_4Batch',\n",
    "#             '2022-03-31_TortSp3_16ep_stop_8Batch', '2022-03-31_TortSp4_25ep_stop_8Batch',\n",
    "#             '2022-04-01_TortSp5_22ep_stop_8Batch']      # timestamp of the model\n",
    "timestamp = ['2022-04-19_Fold2SpAnd45Balanced_17ep_stop_16Batch']\n",
    "SPLIT_NAME = 'test'                   # dataset split to predict\n",
    "MODEL_NAME = 'final_model.h5'         # model to use to make the mediction\n",
    "TOP_K = 2                             # number of top classes predictions to save\n",
    "\n",
    "wrong_predictions=[]\n",
    "\n",
    "for TIMESTAMP in timestamp:\n",
    "\n",
    "    # Set the timestamp\n",
    "    paths.timestamp = TIMESTAMP\n",
    "\n",
    "    # Load clas names\n",
    "    class_names = load_class_names(splits_dir=paths.get_ts_splits_dir())\n",
    "\n",
    "    # Load back the predictions\n",
    "    pred_path = os.path.join(paths.get_predictions_dir(), '{}+{}+top{}.json'.format(MODEL_NAME, SPLIT_NAME, TOP_K))\n",
    "    with open(pred_path) as f:\n",
    "        pred_dict = json.load(f)"
   ]
  },
  {
   "cell_type": "code",
   "execution_count": 18,
   "metadata": {},
   "outputs": [],
   "source": [
    "# # leemos directamente la lista de nombres de las imagenes\n",
    "# import os\n",
    "\n",
    "# import matplotlib.pylab as plt\n",
    "# import numpy as np\n",
    "# import pandas as pd\n",
    "\n",
    "# # import imgclas\n",
    "# from imgclas import paths, config\n",
    "# # from imgclas.data_utils import load_image, load_data_splits, augment, load_class_names\n",
    "\n",
    "# from sklearn.model_selection import train_test_split\n",
    "\n",
    "# CONF = config.get_conf_dict()\n",
    "\n",
    "# # Customize your image folder if needed\n",
    "# # CONF['general']['images_directory'] = '/media/ignacio/Datos/datasets/semillas/datasets'  # absolute path to image_folder\n",
    "\n",
    "# # splits_dir = paths.get_splits_dir()\n",
    "# splits_dir = '/srv/Files_Envio_abril/'\n",
    "\n",
    "# # Load the data\n",
    "# data = pd.read_csv(splits_dir+'test2.txt', sep=\" \", header=None, names=['image', 'clase'])"
   ]
  },
  {
   "cell_type": "code",
   "execution_count": 8,
   "metadata": {},
   "outputs": [
    {
     "data": {
      "text/plain": [
       "'P5757_SPIDER_s.jpg'"
      ]
     },
     "execution_count": 8,
     "metadata": {},
     "output_type": "execute_result"
    }
   ],
   "source": [
    "pred_dict['filenames'][0].split('/')[-1]"
   ]
  },
  {
   "cell_type": "code",
   "execution_count": 31,
   "metadata": {},
   "outputs": [],
   "source": [
    "from PIL import Image, ImageEnhance\n",
    "\n",
    "# cogemos el fold 2, test2.txt\n",
    "\n",
    "for path in pred_dict['filenames']:\n",
    "# for path in data.image:\n",
    "    \n",
    "    #read the image\n",
    "    im = Image.open(path)\n",
    "\n",
    "    name=path.split('/')[-1]\n",
    "\n",
    "    #image brightness enhancer\n",
    "    enhancer = ImageEnhance.Contrast(im)\n",
    "\n",
    "    save_path='/srv/datos/EnhanceContrast_ENVIO_ABRIL/Fold2_factor1.75/'\n",
    "\n",
    "    factor = 1.75 #increase contrast\n",
    "    im_output = enhancer.enhance(factor)\n",
    "    im_output.save(save_path+name)"
   ]
  },
  {
   "cell_type": "code",
   "execution_count": 22,
   "metadata": {},
   "outputs": [
    {
     "data": {
      "text/plain": [
       "48"
      ]
     },
     "execution_count": 22,
     "metadata": {},
     "output_type": "execute_result"
    }
   ],
   "source": [
    "len(pred_dict['filenames'])"
   ]
  },
  {
   "cell_type": "code",
   "execution_count": 23,
   "metadata": {},
   "outputs": [
    {
     "data": {
      "text/plain": [
       "47"
      ]
     },
     "execution_count": 23,
     "metadata": {},
     "output_type": "execute_result"
    }
   ],
   "source": [
    "len(data.image)"
   ]
  },
  {
   "cell_type": "code",
   "execution_count": 14,
   "metadata": {},
   "outputs": [
    {
     "data": {
      "text/plain": [
       "'/srv/datos/EnhanceContrast_ENVIO_ABRIL/Fold2_factor1.5/8290_SPIDER_n.png'"
      ]
     },
     "execution_count": 14,
     "metadata": {},
     "output_type": "execute_result"
    }
   ],
   "source": [
    "save_path+name"
   ]
  },
  {
   "cell_type": "code",
   "execution_count": null,
   "metadata": {},
   "outputs": [],
   "source": [
    "/srv/datos/EnhanceContrast_ENVIO_ABRIL/Fold2_factor1.5/8275_SPIDER_n.png 0"
   ]
  }
 ],
 "metadata": {
  "kernelspec": {
   "display_name": "Python 3",
   "language": "python",
   "name": "python3"
  },
  "language_info": {
   "codemirror_mode": {
    "name": "ipython",
    "version": 3
   },
   "file_extension": ".py",
   "mimetype": "text/x-python",
   "name": "python",
   "nbconvert_exporter": "python",
   "pygments_lexer": "ipython3",
   "version": "3.6.8"
  }
 },
 "nbformat": 4,
 "nbformat_minor": 4
}
