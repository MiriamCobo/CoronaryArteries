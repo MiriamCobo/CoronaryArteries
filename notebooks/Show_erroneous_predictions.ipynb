{
 "cells": [
  {
   "cell_type": "code",
   "execution_count": 11,
   "metadata": {},
   "outputs": [
    {
     "name": "stdout",
     "output_type": "stream",
     "text": [
      "Loading class names...\n",
      "Loading class names...\n",
      "Loading class names...\n",
      "Loading class names...\n",
      "Loading class names...\n"
     ]
    }
   ],
   "source": [
    "import os\n",
    "import json\n",
    "import numpy as np\n",
    "\n",
    "from imgclas.data_utils import load_image, load_class_names\n",
    "from imgclas import paths, plot_utils\n",
    "\n",
    "from imgclas import test_utils\n",
    "from sklearn.metrics import accuracy_score, precision_score, recall_score, f1_score\n",
    "from sklearn.metrics import confusion_matrix\n",
    "\n",
    "import warnings\n",
    "warnings.filterwarnings(\"ignore\") # To ignore UndefinedMetricWarning: [Recall/Precision/F-Score] is ill-defined and being set to 0.0 in labels with no [true/predicted] samples.\n",
    "\n",
    "# User parameters to set\n",
    "timestamp = ['2022-03-22_TortSp1_50ep_4Batch', '2022-03-23_TortSp2_50ep_4Batch',\n",
    "            '2022-03-31_TortSp3_16ep_stop_8Batch', '2022-03-31_TortSp4_25ep_stop_8Batch',\n",
    "            '2022-04-01_TortSp5_22ep_stop_8Batch']      # timestamp of the model\n",
    "SPLIT_NAME = 'test'                   # dataset split to predict\n",
    "MODEL_NAME = 'final_model.h5'         # model to use to make the mediction\n",
    "TOP_K = 2                             # number of top classes predictions to save\n",
    "\n",
    "wrong_predictions=[]\n",
    "\n",
    "for TIMESTAMP in timestamp:\n",
    "\n",
    "    # Set the timestamp\n",
    "    paths.timestamp = TIMESTAMP\n",
    "\n",
    "    # Load clas names\n",
    "    class_names = load_class_names(splits_dir=paths.get_ts_splits_dir())\n",
    "\n",
    "    # Load back the predictions\n",
    "    pred_path = os.path.join(paths.get_predictions_dir(), '{}+{}+top{}.json'.format(MODEL_NAME, SPLIT_NAME, TOP_K))\n",
    "    with open(pred_path) as f:\n",
    "        pred_dict = json.load(f)\n",
    "    \n",
    "    for i in range(len(pred_dict['true_lab'])):\n",
    "        if pred_dict['pred_lab'][i][0]!=pred_dict['true_lab'][i]:\n",
    "            wrong_predictions.append(pred_dict['filenames'][i].split('/')[-1].split('_')[0])"
   ]
  },
  {
   "cell_type": "code",
   "execution_count": 13,
   "metadata": {},
   "outputs": [
    {
     "name": "stdout",
     "output_type": "stream",
     "text": [
      "Lista de pacientes predichos erróneamente por los modelos: \n"
     ]
    },
    {
     "data": {
      "text/plain": [
       "['9271',\n",
       " '4863',\n",
       " '7808',\n",
       " '7306',\n",
       " '5990',\n",
       " '8035',\n",
       " '4083',\n",
       " '10677',\n",
       " '11034',\n",
       " '9575',\n",
       " '11349',\n",
       " 'P5625',\n",
       " '10550',\n",
       " '4847',\n",
       " '10677',\n",
       " '11034',\n",
       " '9221',\n",
       " '3036',\n",
       " 'P5625',\n",
       " '10414',\n",
       " '9741',\n",
       " '10548',\n",
       " '10370',\n",
       " 'P4083',\n",
       " '1639',\n",
       " '7742',\n",
       " '5838',\n",
       " 'P5500',\n",
       " '8393',\n",
       " '5133',\n",
       " '7793',\n",
       " '4040',\n",
       " '10615']"
      ]
     },
     "execution_count": 13,
     "metadata": {},
     "output_type": "execute_result"
    }
   ],
   "source": [
    "print(\"Lista de pacientes predichos erróneamente por los modelos: \")\n",
    "wrong_predictions # 33 imagenes predichas erróneamente en total por los modelos"
   ]
  },
  {
   "cell_type": "code",
   "execution_count": null,
   "metadata": {},
   "outputs": [],
   "source": []
  }
 ],
 "metadata": {
  "kernelspec": {
   "display_name": "Python 3",
   "language": "python",
   "name": "python3"
  },
  "language_info": {
   "codemirror_mode": {
    "name": "ipython",
    "version": 3
   },
   "file_extension": ".py",
   "mimetype": "text/x-python",
   "name": "python",
   "nbconvert_exporter": "python",
   "pygments_lexer": "ipython3",
   "version": "3.6.8"
  }
 },
 "nbformat": 4,
 "nbformat_minor": 4
}
