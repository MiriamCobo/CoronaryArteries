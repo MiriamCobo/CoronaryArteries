{
 "cells": [
  {
   "cell_type": "code",
   "execution_count": 1,
   "metadata": {},
   "outputs": [
    {
     "name": "stdout",
     "output_type": "stream",
     "text": [
      "Loading class names...\n",
      "Loading class names...\n",
      "Loading class names...\n",
      "Loading class names...\n",
      "Loading class names...\n"
     ]
    }
   ],
   "source": [
    "import os\n",
    "import json\n",
    "import numpy as np\n",
    "\n",
    "from imgclas.data_utils import load_image, load_class_names\n",
    "from imgclas import paths, plot_utils\n",
    "\n",
    "from imgclas import test_utils\n",
    "from sklearn.metrics import accuracy_score, precision_score, recall_score, f1_score\n",
    "from sklearn.metrics import confusion_matrix\n",
    "\n",
    "import warnings\n",
    "warnings.filterwarnings(\"ignore\") # To ignore UndefinedMetricWarning: [Recall/Precision/F-Score] is ill-defined and being set to 0.0 in labels with no [true/predicted] samples.\n",
    "\n",
    "# User parameters to set\n",
    "# timestamp = ['2022-03-22_TortSp1_50ep_4Batch', '2022-03-23_TortSp2_50ep_4Batch',\n",
    "#             '2022-03-31_TortSp3_16ep_stop_8Batch', '2022-03-31_TortSp4_25ep_stop_8Batch',\n",
    "#             '2022-04-01_TortSp5_22ep_stop_8Batch']      # timestamp of the model\n",
    "timestamp = ['2022-04-19_Fold1SpAnd45Balanced_18ep_stop_16Batch', \n",
    "             '2022-04-19_Fold2SpAnd45Balanced_17ep_stop_16Batch',\n",
    "            '2022-04-19_Fold3SpAn45Balanced_12ep_stop_16Batch', \n",
    "             '2022-04-20_Fold4SpAnd45Balanced_35ep_stop15_16Batch',\n",
    "            '2022-04-20_Fold5SpAnd45Balanced_21ep_stop15_16Batch']\n",
    "SPLIT_NAME = 'test'                   # dataset split to predict\n",
    "MODEL_NAME = 'final_model.h5'         # model to use to make the mediction\n",
    "TOP_K = 2                             # number of top classes predictions to save\n",
    "\n",
    "wrong_predictions=[]\n",
    "\n",
    "for TIMESTAMP in timestamp:\n",
    "\n",
    "    # Set the timestamp\n",
    "    paths.timestamp = TIMESTAMP\n",
    "\n",
    "    # Load clas names\n",
    "    class_names = load_class_names(splits_dir=paths.get_ts_splits_dir())\n",
    "\n",
    "    # Load back the predictions\n",
    "    pred_path = os.path.join(paths.get_predictions_dir(), '{}+{}+top{}.json'.format(MODEL_NAME, SPLIT_NAME, TOP_K))\n",
    "    with open(pred_path) as f:\n",
    "        pred_dict = json.load(f)\n",
    "    \n",
    "    for i in range(len(pred_dict['true_lab'])):\n",
    "        if pred_dict['pred_lab'][i][0]!=pred_dict['true_lab'][i]:\n",
    "            wrong_predictions.append(pred_dict['filenames'][i].split('/')[-1].split('_')[0])"
   ]
  },
  {
   "cell_type": "code",
   "execution_count": 5,
   "metadata": {},
   "outputs": [
    {
     "name": "stdout",
     "output_type": "stream",
     "text": [
      "Lista de pacientes predichos erróneamente por los modelos: \n",
      "['5990', '8165', '4161', '7255', '7253', '8261', '8028', '10435', '10548', '8305', '11337', '5567', '9475', '1647', '2349', '10654', 'P5433', '1805', '3814', '8851', '10712', '7844', '9378', '10240', '2622', '8631', '7122', '4850', '1639', '6241']\n"
     ]
    }
   ],
   "source": [
    "print(\"Lista de pacientes predichos erróneamente por los modelos: \")\n",
    "print(wrong_predictions[:]) # 33 imagenes predichas erróneamente en total por los modelos"
   ]
  },
  {
   "cell_type": "code",
   "execution_count": 3,
   "metadata": {},
   "outputs": [
    {
     "data": {
      "text/plain": [
       "30"
      ]
     },
     "execution_count": 3,
     "metadata": {},
     "output_type": "execute_result"
    }
   ],
   "source": [
    "len(wrong_predictions)"
   ]
  },
  {
   "cell_type": "code",
   "execution_count": 17,
   "metadata": {},
   "outputs": [
    {
     "name": "stdout",
     "output_type": "stream",
     "text": [
      "Loading class names...\n",
      "Loading class names...\n",
      "Loading class names...\n",
      "Loading class names...\n",
      "Loading class names...\n"
     ]
    }
   ],
   "source": [
    "import os\n",
    "import json\n",
    "import numpy as np\n",
    "\n",
    "from imgclas.data_utils import load_image, load_class_names\n",
    "from imgclas import paths, plot_utils\n",
    "\n",
    "from imgclas import test_utils\n",
    "from sklearn.metrics import accuracy_score, precision_score, recall_score, f1_score\n",
    "from sklearn.metrics import roc_curve, roc_auc_score, precision_recall_curve\n",
    "from sklearn.metrics import confusion_matrix\n",
    "\n",
    "import warnings\n",
    "warnings.filterwarnings(\"ignore\") # To ignore UndefinedMetricWarning: [Recall/Precision/F-Score] is ill-defined and being set to 0.0 in labels with no [true/predicted] samples.\n",
    "\n",
    "# User parameters to set\n",
    "# timestamp = ['2022-03-22_TortSp1_50ep_4Batch', '2022-03-23_TortSp2_50ep_4Batch',\n",
    "#             '2022-03-31_TortSp3_16ep_stop_8Batch', '2022-03-31_TortSp4_25ep_stop_8Batch',\n",
    "#             '2022-04-01_TortSp5_22ep_stop_8Batch']      # timestamp of the model\n",
    "timestamp = ['2022-04-19_Fold1SpAnd45Balanced_18ep_stop_16Batch', \n",
    "             '2022-04-19_Fold2SpAnd45Balanced_17ep_stop_16Batch',\n",
    "            '2022-04-19_Fold3SpAn45Balanced_12ep_stop_16Batch', \n",
    "             '2022-04-20_Fold4SpAnd45Balanced_35ep_stop15_16Batch',\n",
    "            '2022-04-20_Fold5SpAnd45Balanced_21ep_stop15_16Batch']\n",
    "SPLIT_NAME = 'test'                   # dataset split to predict\n",
    "MODEL_NAME = 'final_model.h5'         # model to use to make the mediction\n",
    "TOP_K = 2                             # number of top classes predictions to save\n",
    "\n",
    "train_accs=[]\n",
    "val_accs=[]\n",
    "accs=[]\n",
    "sens=[]\n",
    "specs=[]\n",
    "aucs=[]\n",
    "recalls=[]\n",
    "precisions=[]\n",
    "f1_scores=[]\n",
    "\n",
    "for TIMESTAMP in timestamp:\n",
    "\n",
    "    # Set the timestamp\n",
    "    paths.timestamp = TIMESTAMP\n",
    "    \n",
    "    # Load training statistics\n",
    "    stats_path = os.path.join(paths.get_stats_dir(), 'stats.json')\n",
    "    with open(stats_path) as f:\n",
    "        stats = json.load(f)\n",
    "    train_accs.append(stats['acc'][-1])\n",
    "    val_accs.append(stats['val_acc'][-1])\n",
    "\n",
    "    # Load clas names\n",
    "    class_names = load_class_names(splits_dir=paths.get_ts_splits_dir())\n",
    "\n",
    "    # Load back the predictions\n",
    "    pred_path = os.path.join(paths.get_predictions_dir(), '{}+{}+top{}.json'.format(MODEL_NAME, SPLIT_NAME, TOP_K))\n",
    "    with open(pred_path) as f:\n",
    "        pred_dict = json.load(f)\n",
    "    \n",
    "    true_lab, pred_lab = np.array(pred_dict['true_lab']), np.array(pred_dict['pred_lab'])\n",
    "\n",
    "    top1 = test_utils.topK_accuracy(true_lab, pred_lab, K=1)\n",
    "    accs.append(top1)\n",
    "    \n",
    "    scores=[]\n",
    "    for i in range(0, len(pred_dict['pred_lab'])):\n",
    "        if pred_dict['pred_lab'][i][0]==0:\n",
    "            scores.append(pred_dict['pred_prob'][i][1])\n",
    "        else:\n",
    "            scores.append(pred_dict['pred_prob'][i][0])\n",
    "    \n",
    "    # computing sensibility, specificity and ROC curve.\n",
    "    # calculate roc curve\n",
    "    probs = np.array([item[0] for item in pred_dict['pred_prob']])\n",
    "    y_pred = np.array([item[0] for item in pred_lab])\n",
    "    # calculate AUC\n",
    "    auc = roc_auc_score(true_lab, y_pred) # este seria sin tener en cuenta las probabilidades!\n",
    "    auc = roc_auc_score(true_lab, scores)\n",
    "    aucs.append(auc)\n",
    "    # calculate precision-recall curve\n",
    "    precision, recall, thresholds = precision_recall_curve(y_pred, probs)\n",
    "    # calculate F1 score\n",
    "    f1 = f1_score(true_lab, y_pred, average='weighted')\n",
    "    f1_scores.append(f1)\n",
    "    # calculate precision\n",
    "    precision = precision_score(true_lab, y_pred, average='weighted')\n",
    "    precisions.append(precision)\n",
    "    # calculate recall\n",
    "    recall = recall_score(true_lab, y_pred, average='weighted')\n",
    "    recalls.append(recall)\n",
    "    # standard confussion matrix\n",
    "    TN, FP, FN, TP = confusion_matrix(true_lab, y_pred, labels=[0, 1]).ravel()\n",
    "    sensitivity  = TP/(TP+FN)\n",
    "    specificity  = TN/(TN+FP)\n",
    "    sens.append(sensitivity)\n",
    "    specs.append(specificity)"
   ]
  },
  {
   "cell_type": "code",
   "execution_count": 18,
   "metadata": {},
   "outputs": [
    {
     "name": "stdout",
     "output_type": "stream",
     "text": [
      "Train accuracies: (0.965 +- 0.012)\n",
      "Val accuracies: (0.844 +- 0.076)\n",
      "Test accuracies: (0.875 +- 0.062)\n",
      "Sensitivities: (0.866 +- 0.103)\n",
      "Specificities: (0.883 +- 0.103)\n",
      "Precisions: (0.885 +- 0.059)\n",
      "Recalls: (0.875 +- 0.062)\n",
      "F1 Scores: (0.874 +- 0.062)\n",
      "AUCs: (0.959 +- 0.028)\n"
     ]
    }
   ],
   "source": [
    "print('Train accuracies: (%.3f +- %.3f)' % (np.mean(train_accs), np.std(train_accs)))\n",
    "print('Val accuracies: (%.3f +- %.3f)' % (np.mean(val_accs), np.std(val_accs)))\n",
    "print('Test accuracies: (%.3f +- %.3f)' % (np.mean(accs), np.std(accs)))\n",
    "print('Sensitivities: (%.3f +- %.3f)' % (np.mean(sens), np.std(sens)))\n",
    "print('Specificities: (%.3f +- %.3f)' % (np.mean(specs), np.std(specs)))\n",
    "print('Precisions: (%.3f +- %.3f)' % (np.mean(precisions), np.std(precisions)))\n",
    "print('Recalls: (%.3f +- %.3f)' % (np.mean(recalls), np.std(recalls)))\n",
    "print('F1 Scores: (%.3f +- %.3f)' % (np.mean(f1_scores), np.std(f1_scores)))\n",
    "print('AUCs: (%.3f +- %.3f)' % (np.mean(aucs), np.std(aucs)))"
   ]
  }
 ],
 "metadata": {
  "kernelspec": {
   "display_name": "Python 3",
   "language": "python",
   "name": "python3"
  },
  "language_info": {
   "codemirror_mode": {
    "name": "ipython",
    "version": 3
   },
   "file_extension": ".py",
   "mimetype": "text/x-python",
   "name": "python",
   "nbconvert_exporter": "python",
   "pygments_lexer": "ipython3",
   "version": "3.6.8"
  }
 },
 "nbformat": 4,
 "nbformat_minor": 4
}
