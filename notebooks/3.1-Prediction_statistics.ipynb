{
 "cells": [
  {
   "cell_type": "markdown",
   "metadata": {},
   "source": [
    "# Predictions statistics\n",
    "\n",
    "Let's analyse the predictions made on our test datasplit.\n",
    "\n",
    "**Note** To run this notebook you previously have to run and save the predictions on a test dataset **with ground-truth labels**. See the Datasplit section in [3.0 notebook](./3.0-Computing_predictions.ipynb#Predicting-a-datasplit-txt-file) for reference.\n"
   ]
  },
  {
   "cell_type": "code",
   "execution_count": 1,
   "metadata": {},
   "outputs": [
    {
     "name": "stdout",
     "output_type": "stream",
     "text": [
      "1.14.0\n"
     ]
    }
   ],
   "source": [
    "import tensorflow as tf\n",
    "print(tf.__version__)"
   ]
  },
  {
   "cell_type": "code",
   "execution_count": 113,
   "metadata": {},
   "outputs": [
    {
     "name": "stdout",
     "output_type": "stream",
     "text": [
      "Loading class names...\n"
     ]
    }
   ],
   "source": [
    "import os\n",
    "import json\n",
    "import numpy as np\n",
    "\n",
    "from imgclas.data_utils import load_image, load_class_names\n",
    "from imgclas import paths, plot_utils\n",
    "\n",
    "import warnings\n",
    "warnings.filterwarnings(\"ignore\") # To ignore UndefinedMetricWarning: [Recall/Precision/F-Score] is ill-defined and being set to 0.0 in labels with no [true/predicted] samples.\n",
    "\n",
    "# User parameters to set\n",
    "TIMESTAMP = '2022-04-19_Fold2SpAnd45Balanced_17ep_stop_16Batch'      # timestamp of the model\n",
    "SPLIT_NAME = 'test2_Contrast0-75'                   # dataset split to predict\n",
    "MODEL_NAME = 'final_model.h5'         # model to use to make the mediction\n",
    "TOP_K = 2                             # number of top classes predictions to save\n",
    "\n",
    "# Set the timestamp\n",
    "paths.timestamp = TIMESTAMP\n",
    "\n",
    "# Load clas names\n",
    "class_names = load_class_names(splits_dir=paths.get_ts_splits_dir())\n",
    "\n",
    "# Load back the predictions\n",
    "pred_path = os.path.join(paths.get_predictions_dir(), '{}+{}+top{}.json'.format(MODEL_NAME, SPLIT_NAME, TOP_K))\n",
    "with open(pred_path) as f:\n",
    "    pred_dict = json.load(f)"
   ]
  },
  {
   "cell_type": "markdown",
   "metadata": {},
   "source": [
    "## Computing the metrics\n",
    "\n",
    "Check [sklearn](https://scikit-learn.org/stable/modules/classes.html#classification-metrics) for more classification metrics."
   ]
  },
  {
   "cell_type": "code",
   "execution_count": 114,
   "metadata": {},
   "outputs": [
    {
     "name": "stdout",
     "output_type": "stream",
     "text": [
      "Top1 accuracy: 81.2 %\n",
      "\n",
      "\n",
      "Micro recall: 81.2 %\n",
      "Macro recall: 81.2 %\n",
      "Macro recall (no labels): 81.2 %\n",
      "Weighted recall: 81.2 %\n",
      "\n",
      "\n",
      "Micro precision: 81.2 %\n",
      "Macro precision: 81.7 %\n",
      "Macro precision (no labels): 81.7 %\n",
      "Weighted precision: 81.7 %\n",
      "\n",
      "\n",
      "Micro F1 score: 81.2 %\n",
      "Macro F1 score: 81.2 %\n",
      "Macro F1 score (no labels): 81.2 %\n",
      "Weighted F1 score: 81.2 %\n"
     ]
    }
   ],
   "source": [
    "from imgclas import test_utils\n",
    "from sklearn.metrics import accuracy_score, precision_score, recall_score, f1_score\n",
    "\n",
    "\n",
    "true_lab, pred_lab = np.array(pred_dict['true_lab']), np.array(pred_dict['pred_lab'])\n",
    "\n",
    "top1 = test_utils.topK_accuracy(true_lab, pred_lab, K=1)\n",
    "# top5 = test_utils.topK_accuracy(true_lab, pred_lab, K=5)\n",
    "\n",
    "print('Top1 accuracy: {:.1f} %'.format(top1 * 100))\n",
    "# print('Top5 accuracy: {:.1f} %'.format(top5 * 100))\n",
    "\n",
    "labels = range(len(class_names))\n",
    "print('\\n')\n",
    "print('Micro recall: {:.1f} %'.format(100 * recall_score(true_lab, pred_lab[:, 0], labels=labels, average='micro')))\n",
    "print('Macro recall: {:.1f} %'.format(100 * recall_score(true_lab, pred_lab[:, 0], labels=labels, average='macro')))\n",
    "print('Macro recall (no labels): {:.1f} %'.format(100 * recall_score(true_lab, pred_lab[:, 0], average='macro')))\n",
    "print('Weighted recall: {:.1f} %'.format(100 * recall_score(true_lab, pred_lab[:, 0], labels=labels, average='weighted')))\n",
    "\n",
    "print('\\n')\n",
    "print('Micro precision: {:.1f} %'.format(100 * precision_score(true_lab, pred_lab[:, 0], labels=labels, average='micro')))\n",
    "print('Macro precision: {:.1f} %'.format(100 * precision_score(true_lab, pred_lab[:, 0], labels=labels, average='macro')))\n",
    "print('Macro precision (no labels): {:.1f} %'.format(100 * precision_score(true_lab, pred_lab[:, 0], average='macro')))\n",
    "print('Weighted precision: {:.1f} %'.format(100 * precision_score(true_lab, pred_lab[:, 0], labels=labels, average='weighted')))\n",
    "\n",
    "print('\\n')\n",
    "print('Micro F1 score: {:.1f} %'.format(100 * f1_score(true_lab, pred_lab[:, 0], labels=labels, average='micro')))\n",
    "print('Macro F1 score: {:.1f} %'.format(100 * f1_score(true_lab, pred_lab[:, 0], labels=labels, average='macro')))\n",
    "print('Macro F1 score (no labels): {:.1f} %'.format(100 * f1_score(true_lab, pred_lab[:, 0], average='macro')))\n",
    "print('Weighted F1 score: {:.1f} %'.format(100 * f1_score(true_lab, pred_lab[:, 0], labels=labels, average='weighted')))"
   ]
  },
  {
   "cell_type": "code",
   "execution_count": 108,
   "metadata": {},
   "outputs": [],
   "source": [
    "scores=[]\n",
    "for i in range(0, len(pred_dict['pred_lab'])):\n",
    "    if pred_dict['pred_lab'][i][0]==0:\n",
    "        scores.append(pred_dict['pred_prob'][i][1])\n",
    "    else:\n",
    "        scores.append(pred_dict['pred_prob'][i][0])"
   ]
  },
  {
   "cell_type": "code",
   "execution_count": 109,
   "metadata": {},
   "outputs": [
    {
     "name": "stdout",
     "output_type": "stream",
     "text": [
      "AUC: (no probs): 0.81\n",
      "Sensitivity: 0.75\n",
      "Specificity: 0.88\n",
      "Precision: 0.82\n",
      "Recall: 0.81\n",
      "F1 score: 0.81\n",
      "AUC: 0.92\n"
     ]
    }
   ],
   "source": [
    "# https://machinelearningmastery.com/roc-curves-and-precision-recall-curves-for-classification-in-python/\n",
    "from sklearn.metrics import roc_curve, roc_auc_score, precision_recall_curve\n",
    "from sklearn.metrics import f1_score, precision_score, recall_score, confusion_matrix\n",
    "# computing sensibility, specificity and ROC curve.\n",
    "# calculate roc curve\n",
    "probs = np.array([item[0] for item in pred_dict['pred_prob']])\n",
    "y_pred = np.array([item[0] for item in pred_lab])\n",
    "# calculate AUC\n",
    "auc = roc_auc_score(true_lab, y_pred) # este seria sin tener en cuenta las probabilidades!\n",
    "print('AUC: (no probs): %.2f' % auc)\n",
    "auc = roc_auc_score(true_lab, scores)\n",
    "# The probability estimates correspond to the probability of the class with the greater label, \n",
    "# i.e. estimator.classes_[1] and thus estimator.predict_proba(X, y)[:, 1]\n",
    "# calculate precision-recall curve\n",
    "precision, recall, thresholds = precision_recall_curve(y_pred, probs)\n",
    "# calculate F1 score\n",
    "f1 = f1_score(true_lab, y_pred, average='weighted')\n",
    "# calculate precision\n",
    "precision = precision_score(true_lab, y_pred, average='weighted')\n",
    "# calculate recall\n",
    "recall = recall_score(true_lab, y_pred, average='weighted')\n",
    "# standard confussion matrix\n",
    "TN, FP, FN, TP = confusion_matrix(true_lab, y_pred, labels=[0, 1]).ravel()\n",
    "sensitivity  = TP/(TP+FN)\n",
    "specificity  = TN/(TN+FP)\n",
    "pos_pred_val = TP/(TP+FP)\n",
    "neg_pred_val = TN/(TN+FN)\n",
    "print('Sensitivity: %.2f' % sensitivity)\n",
    "print('Specificity: %.2f' % specificity)\n",
    "print('Precision: %.2f' % precision)\n",
    "print('Recall: %.2f' % recall)\n",
    "print('F1 score: %.2f' % f1)\n",
    "print('AUC: %.2f' % auc)"
   ]
  },
  {
   "cell_type": "code",
   "execution_count": 110,
   "metadata": {},
   "outputs": [
    {
     "data": {
      "image/png": "[encoded data removed]",
      "text/plain": [
       "<Figure size 432x288 with 1 Axes>"
      ]
     },
     "metadata": {},
     "output_type": "display_data"
    }
   ],
   "source": [
    "import sklearn.metrics as metrics\n",
    "import matplotlib.pyplot as plt\n",
    "fpr, tpr, thresholds = roc_curve(true_lab, scores)\n",
    "roc_auc = metrics.auc(fpr, tpr)\n",
    "plt.title('Receiver Operating Characteristic')\n",
    "plt.plot(fpr, tpr, 'b', label = 'AUC = %0.2f' % roc_auc)\n",
    "plt.legend(loc = 'lower right')\n",
    "plt.plot([0, 1], [0, 1],'r--')\n",
    "plt.xlim([0, 1])\n",
    "plt.ylim([0, 1])\n",
    "plt.ylabel('True Positive Rate')\n",
    "plt.xlabel('False Positive Rate')\n",
    "plt.show()"
   ]
  },
  {
   "cell_type": "markdown",
   "metadata": {},
   "source": [
    "## Computing the confusion matrix"
   ]
  },
  {
   "cell_type": "code",
   "execution_count": 42,
   "metadata": {},
   "outputs": [],
   "source": [
    "import matplotlib.pylab as plt\n",
    "import seaborn\n",
    "from sklearn.metrics import confusion_matrix\n",
    "\n",
    "\n",
    "def plt_conf_matrix(conf_mat,  name, labels=False):\n",
    "    \n",
    "    fig = plt.figure(figsize=(20, 20))\n",
    "    seaborn.set(font_scale=1.4)\n",
    "    hm = seaborn.heatmap(conf_mat, annot=True, square=True, cbar_kws={'fraction':0.046, 'pad':0.04},\n",
    "                         xticklabels=labels, yticklabels=labels, cmap=plt.cm.Blues, fmt=\".2f\")\n",
    "    fontsize = None\n",
    "    hm.yaxis.set_ticklabels(hm.yaxis.get_ticklabels(), rotation=0, ha='right', fontsize=fontsize)\n",
    "    hm.xaxis.set_ticklabels(hm.xaxis.get_ticklabels(), rotation=90, ha='right', fontsize=fontsize)\n",
    "\n",
    "    plt.ylabel('True label')\n",
    "    plt.xlabel('Predicted label')\n",
    "    \n",
    "#     plt.savefig('/srv/image-results/'+name+'_confussionMatrix.jpg')"
   ]
  },
  {
   "cell_type": "markdown",
   "metadata": {},
   "source": [
    "### Standard confusion matrix"
   ]
  },
  {
   "cell_type": "code",
   "execution_count": 17,
   "metadata": {},
   "outputs": [
    {
     "data": {
      "image/png": "[encoded data removed]",
      "text/plain": [
       "<Figure size 1440x1440 with 2 Axes>"
      ]
     },
     "metadata": {},
     "output_type": "display_data"
    }
   ],
   "source": [
    "y_true, y_pred = np.array(pred_dict['true_lab']), np.array(pred_dict['pred_lab'])[:, 0]\n",
    "conf_mat = confusion_matrix(y_true, y_pred, labels=range(len(class_names)), sample_weight=None)\n",
    "normed_conf = conf_mat / np.sum(conf_mat, axis=1)[:, np.newaxis]\n",
    "\n",
    "# plt_conf_matrix(conf_mat)\n",
    "plt_conf_matrix(normed_conf, labels=class_names, name='Predicciones_Sinusoidad')"
   ]
  },
  {
   "cell_type": "markdown",
   "metadata": {},
   "source": [
    "### Weighted confusion matrix\n",
    "We weight each count in the confusion matrix by the probability of the prediction."
   ]
  },
  {
   "cell_type": "code",
   "execution_count": 18,
   "metadata": {},
   "outputs": [
    {
     "data": {
      "image/png": "[encoded data removed]",
      "text/plain": [
       "<Figure size 1440x1440 with 2 Axes>"
      ]
     },
     "metadata": {},
     "output_type": "display_data"
    }
   ],
   "source": [
    "y_pred = np.array(pred_dict['pred_lab'])\n",
    "y_true = np.repeat(np.array(pred_dict['true_lab']), y_pred.shape[1])\n",
    "y_pred = y_pred.flatten()\n",
    "weights = np.array(pred_dict['pred_prob']).flatten()\n",
    "\n",
    "conf_mat = confusion_matrix(y_true, y_pred, labels=range(len(class_names)), sample_weight=weights)\n",
    "normed_conf = conf_mat / np.sum(conf_mat, axis=1)[:, np.newaxis]\n",
    "\n",
    "# plt_conf_matrix(conf_mat)\n",
    "plt_conf_matrix(normed_conf, labels=class_names, name='Predicciones_Sinusoidad_weighted')"
   ]
  },
  {
   "cell_type": "code",
   "execution_count": 111,
   "metadata": {},
   "outputs": [],
   "source": [
    "# save images that are wrong predicted in a list,\n",
    "# to see if they share a pattern\n",
    "wrong_predictions=[]\n",
    "for i in range(len(pred_dict['true_lab'])):\n",
    "    if pred_dict['pred_lab'][i][0]!=pred_dict['true_lab'][i]:\n",
    "        wrong_predictions.append(pred_dict['filenames'][i])"
   ]
  },
  {
   "cell_type": "code",
   "execution_count": null,
   "metadata": {},
   "outputs": [],
   "source": [
    "# fold 2, enhance contrast 0.75\n",
    "wrong_predictions"
   ]
  },
  {
   "cell_type": "code",
   "execution_count": 105,
   "metadata": {},
   "outputs": [
    {
     "data": {
      "text/plain": [
       "['/srv/datos/EnhanceContrast_ENVIO_ABRIL/Fold2_factor1.75/7255_45_s.jpg',\n",
       " '/srv/datos/EnhanceContrast_ENVIO_ABRIL/Fold2_factor1.75/7253_SPIDER_s.jpg',\n",
       " '/srv/datos/EnhanceContrast_ENVIO_ABRIL/Fold2_factor1.75/8261_SPIDER_n.jpg',\n",
       " '/srv/datos/EnhanceContrast_ENVIO_ABRIL/Fold2_factor1.75/8028_SPIDER_n.png',\n",
       " '/srv/datos/EnhanceContrast_ENVIO_ABRIL/Fold2_factor1.75/10435_45_s.jpg',\n",
       " '/srv/datos/EnhanceContrast_ENVIO_ABRIL/Fold2_factor1.75/10548_SPIDER_n.jpg',\n",
       " '/srv/datos/EnhanceContrast_ENVIO_ABRIL/Fold2_factor1.75/8305_SPIDER_n.png',\n",
       " '/srv/datos/EnhanceContrast_ENVIO_ABRIL/Fold2_factor1.75/11337_SPIDER_s.jpg',\n",
       " '/srv/datos/EnhanceContrast_ENVIO_ABRIL/Fold2_factor1.75/9029_SPIDER_s.jpg',\n",
       " '/srv/datos/EnhanceContrast_ENVIO_ABRIL/Fold2_factor1.75/5567_SPIDER_s.jpg',\n",
       " '/srv/datos/EnhanceContrast_ENVIO_ABRIL/Fold2_factor1.75/10486_SPIDER_n.jpg']"
      ]
     },
     "execution_count": 105,
     "metadata": {},
     "output_type": "execute_result"
    }
   ],
   "source": [
    "# fold 2, enhance contrast 1.75\n",
    "wrong_predictions"
   ]
  },
  {
   "cell_type": "code",
   "execution_count": 98,
   "metadata": {},
   "outputs": [
    {
     "data": {
      "text/plain": [
       "['/srv/datos/EnhanceContrast_ENVIO_ABRIL/Fold2_factor1.25/7255_45_s.jpg',\n",
       " '/srv/datos/EnhanceContrast_ENVIO_ABRIL/Fold2_factor1.25/7253_SPIDER_s.jpg',\n",
       " '/srv/datos/EnhanceContrast_ENVIO_ABRIL/Fold2_factor1.25/8261_SPIDER_n.jpg',\n",
       " '/srv/datos/EnhanceContrast_ENVIO_ABRIL/Fold2_factor1.25/8028_SPIDER_n.png',\n",
       " '/srv/datos/EnhanceContrast_ENVIO_ABRIL/Fold2_factor1.25/10435_45_s.jpg',\n",
       " '/srv/datos/EnhanceContrast_ENVIO_ABRIL/Fold2_factor1.25/10548_SPIDER_n.jpg',\n",
       " '/srv/datos/EnhanceContrast_ENVIO_ABRIL/Fold2_factor1.25/8305_SPIDER_n.png',\n",
       " '/srv/datos/EnhanceContrast_ENVIO_ABRIL/Fold2_factor1.25/11337_SPIDER_s.jpg',\n",
       " '/srv/datos/EnhanceContrast_ENVIO_ABRIL/Fold2_factor1.25/9029_SPIDER_s.jpg',\n",
       " '/srv/datos/EnhanceContrast_ENVIO_ABRIL/Fold2_factor1.25/5567_SPIDER_s.jpg']"
      ]
     },
     "execution_count": 98,
     "metadata": {},
     "output_type": "execute_result"
    }
   ],
   "source": [
    "# fold 2, enhance contrast 1.25\n",
    "wrong_predictions"
   ]
  },
  {
   "cell_type": "code",
   "execution_count": 112,
   "metadata": {},
   "outputs": [
    {
     "data": {
      "text/plain": [
       "['/srv/datos/EnhanceContrast_ENVIO_ABRIL/Fold2_factor1.0/7255_45_s.jpg',\n",
       " '/srv/datos/EnhanceContrast_ENVIO_ABRIL/Fold2_factor1.0/7253_SPIDER_s.jpg',\n",
       " '/srv/datos/EnhanceContrast_ENVIO_ABRIL/Fold2_factor1.0/8261_SPIDER_n.jpg',\n",
       " '/srv/datos/EnhanceContrast_ENVIO_ABRIL/Fold2_factor1.0/8028_SPIDER_n.png',\n",
       " '/srv/datos/EnhanceContrast_ENVIO_ABRIL/Fold2_factor1.0/10435_45_s.jpg',\n",
       " '/srv/datos/EnhanceContrast_ENVIO_ABRIL/Fold2_factor1.0/8305_SPIDER_n.png',\n",
       " '/srv/datos/EnhanceContrast_ENVIO_ABRIL/Fold2_factor1.0/11337_SPIDER_s.jpg',\n",
       " '/srv/datos/EnhanceContrast_ENVIO_ABRIL/Fold2_factor1.0/9029_SPIDER_s.jpg',\n",
       " '/srv/datos/EnhanceContrast_ENVIO_ABRIL/Fold2_factor1.0/5567_SPIDER_s.jpg']"
      ]
     },
     "execution_count": 112,
     "metadata": {},
     "output_type": "execute_result"
    }
   ],
   "source": [
    "# fold 2, enhance contrast 1.0\n",
    "wrong_predictions"
   ]
  },
  {
   "cell_type": "code",
   "execution_count": 78,
   "metadata": {},
   "outputs": [
    {
     "data": {
      "text/plain": [
       "['/srv/datos/EnhanceContrast_ENVIO_ABRIL/Fold2_factor0.5/7255_45_s.jpg',\n",
       " '/srv/datos/EnhanceContrast_ENVIO_ABRIL/Fold2_factor0.5/7253_SPIDER_s.jpg',\n",
       " '/srv/datos/EnhanceContrast_ENVIO_ABRIL/Fold2_factor0.5/8028_SPIDER_n.png',\n",
       " '/srv/datos/EnhanceContrast_ENVIO_ABRIL/Fold2_factor0.5/10435_45_s.jpg',\n",
       " '/srv/datos/EnhanceContrast_ENVIO_ABRIL/Fold2_factor0.5/8305_SPIDER_n.png',\n",
       " '/srv/datos/EnhanceContrast_ENVIO_ABRIL/Fold2_factor0.5/11337_SPIDER_s.jpg',\n",
       " '/srv/datos/EnhanceContrast_ENVIO_ABRIL/Fold2_factor0.5/3036_SPIDER_s.jpg',\n",
       " '/srv/datos/EnhanceContrast_ENVIO_ABRIL/Fold2_factor0.5/5567_SPIDER_s.jpg']"
      ]
     },
     "execution_count": 78,
     "metadata": {},
     "output_type": "execute_result"
    }
   ],
   "source": [
    "# fold 2, enhance contrast 0.5\n",
    "wrong_predictions"
   ]
  },
  {
   "cell_type": "code",
   "execution_count": 71,
   "metadata": {},
   "outputs": [
    {
     "data": {
      "text/plain": [
       "['/srv/datos/EnhanceContrast_ENVIO_ABRIL/Fold2_factor2.0/7255_45_s.jpg',\n",
       " '/srv/datos/EnhanceContrast_ENVIO_ABRIL/Fold2_factor2.0/7253_SPIDER_s.jpg',\n",
       " '/srv/datos/EnhanceContrast_ENVIO_ABRIL/Fold2_factor2.0/8261_SPIDER_n.jpg',\n",
       " '/srv/datos/EnhanceContrast_ENVIO_ABRIL/Fold2_factor2.0/8028_SPIDER_n.png',\n",
       " '/srv/datos/EnhanceContrast_ENVIO_ABRIL/Fold2_factor2.0/10548_SPIDER_n.jpg',\n",
       " '/srv/datos/EnhanceContrast_ENVIO_ABRIL/Fold2_factor2.0/8305_SPIDER_n.png',\n",
       " '/srv/datos/EnhanceContrast_ENVIO_ABRIL/Fold2_factor2.0/11337_SPIDER_s.jpg',\n",
       " '/srv/datos/EnhanceContrast_ENVIO_ABRIL/Fold2_factor2.0/5567_SPIDER_s.jpg']"
      ]
     },
     "execution_count": 71,
     "metadata": {},
     "output_type": "execute_result"
    }
   ],
   "source": [
    "# fold 2, enhance contrast 2.0\n",
    "wrong_predictions"
   ]
  },
  {
   "cell_type": "code",
   "execution_count": 51,
   "metadata": {},
   "outputs": [
    {
     "data": {
      "text/plain": [
       "['/srv/datos/EnhanceContrast_ENVIO_ABRIL/Fold2_factor1.5/7255_45_s.jpg',\n",
       " '/srv/datos/EnhanceContrast_ENVIO_ABRIL/Fold2_factor1.5/7253_SPIDER_s.jpg',\n",
       " '/srv/datos/EnhanceContrast_ENVIO_ABRIL/Fold2_factor1.5/8261_SPIDER_n.jpg',\n",
       " '/srv/datos/EnhanceContrast_ENVIO_ABRIL/Fold2_factor1.5/8028_SPIDER_n.png',\n",
       " '/srv/datos/EnhanceContrast_ENVIO_ABRIL/Fold2_factor1.5/10435_45_s.jpg',\n",
       " '/srv/datos/EnhanceContrast_ENVIO_ABRIL/Fold2_factor1.5/10548_SPIDER_n.jpg',\n",
       " '/srv/datos/EnhanceContrast_ENVIO_ABRIL/Fold2_factor1.5/8305_SPIDER_n.png',\n",
       " '/srv/datos/EnhanceContrast_ENVIO_ABRIL/Fold2_factor1.5/11337_SPIDER_s.jpg',\n",
       " '/srv/datos/EnhanceContrast_ENVIO_ABRIL/Fold2_factor1.5/9029_SPIDER_s.jpg',\n",
       " '/srv/datos/EnhanceContrast_ENVIO_ABRIL/Fold2_factor1.5/5567_SPIDER_s.jpg',\n",
       " '/srv/datos/EnhanceContrast_ENVIO_ABRIL/Fold2_factor1.5/10486_SPIDER_n.jpg']"
      ]
     },
     "execution_count": 51,
     "metadata": {},
     "output_type": "execute_result"
    }
   ],
   "source": [
    "# fold 2, enhance contrast 1.5\n",
    "wrong_predictions"
   ]
  },
  {
   "cell_type": "code",
   "execution_count": 20,
   "metadata": {},
   "outputs": [
    {
     "data": {
      "text/plain": [
       "['/srv/datos/ENVIO_ABRIL/No_tortuosos/No_tortuosos_spider/10240_SPIDER_n.jpg',\n",
       " '/srv/datos/ENVIO_ABRIL/No_tortuosos/No_tortuosos_spider/2622_SPIDER_n.jpg',\n",
       " '/srv/datos/ENVIO_ABRIL/No_tortuosos/No_tortuosos_spider/8631_SPIDER_n.jpg',\n",
       " '/srv/datos/ENVIO_ABRIL/No_tortuosos/No_tortuosos_spider/7122_SPIDER_n.jpg',\n",
       " '/srv/datos/ENVIO_ABRIL/No_tortuosos/No_tortuosos_45/4850_45_n.jpg',\n",
       " '/srv/datos/ENVIO_ABRIL/No_tortuosos/No_tortuosos_spider/1639_SPIDER_n.jpg',\n",
       " '/srv/datos/ENVIO_ABRIL/No_tortuosos/No_tortuosos_spider/6241_SPIDER_n.jpg']"
      ]
     },
     "execution_count": 20,
     "metadata": {},
     "output_type": "execute_result"
    }
   ],
   "source": [
    "# fold 5\n",
    "wrong_predictions"
   ]
  },
  {
   "cell_type": "code",
   "execution_count": 10,
   "metadata": {},
   "outputs": [
    {
     "data": {
      "text/plain": [
       "['/srv/datos/ENVIO_ABRIL/Tortuosos/Tortuosos_spider/7844_SPIDER_s.jpg',\n",
       " '/srv/datos/ENVIO_ABRIL/Tortuosos/Tortuosos_spider/9378_SPIDER_s.jpg']"
      ]
     },
     "execution_count": 10,
     "metadata": {},
     "output_type": "execute_result"
    }
   ],
   "source": [
    "# fold 4\n",
    "wrong_predictions"
   ]
  },
  {
   "cell_type": "code",
   "execution_count": 10,
   "metadata": {},
   "outputs": [
    {
     "data": {
      "text/plain": [
       "['/srv/datos/ENVIO_ABRIL/Tortuosos/Tortuosos_45/9475_45_s.jpg',\n",
       " '/srv/datos/ENVIO_ABRIL/No_tortuosos/No_tortuosos_spider/1647_SPIDER_n.jpg',\n",
       " '/srv/datos/ENVIO_ABRIL/Tortuosos/Tortuosos_45/2349_45_s.jpg',\n",
       " '/srv/datos/ENVIO_ABRIL/Tortuosos/Tortuosos_spider/10654_SPIDER_s.jpg',\n",
       " '/srv/datos/ENVIO_ABRIL/No_tortuosos/No_tortuosos_spider/P5433_SPIDER_n.jpg',\n",
       " '/srv/datos/ENVIO_ABRIL/Tortuosos/Tortuosos_45/1805_45_s.jpg',\n",
       " '/srv/datos/ENVIO_ABRIL/Tortuosos/Tortuosos_45/3814_45_s.jpg',\n",
       " '/srv/datos/ENVIO_ABRIL/Tortuosos/Tortuosos_45/8851_45_s.jpg',\n",
       " '/srv/datos/ENVIO_ABRIL/Tortuosos/Tortuosos_spider/10712_SPIDER_s.jpg']"
      ]
     },
     "execution_count": 10,
     "metadata": {},
     "output_type": "execute_result"
    }
   ],
   "source": [
    "# fold 3\n",
    "wrong_predictions"
   ]
  },
  {
   "cell_type": "code",
   "execution_count": 12,
   "metadata": {},
   "outputs": [
    {
     "data": {
      "text/plain": [
       "['/srv/datos/ENVIO_ABRIL/Tortuosos/Tortuosos_45/7255_45_s.jpg',\n",
       " '/srv/datos/ENVIO_ABRIL/Tortuosos/Tortuosos_spider/7253_SPIDER_s.jpg',\n",
       " '/srv/datos/ENVIO_ABRIL/No_tortuosos/No_tortuosos_spider/8261_SPIDER_n.jpg',\n",
       " '/srv/datos/ENVIO_ABRIL/No_tortuosos/No_tortuosos_spider/8028_SPIDER_n.png',\n",
       " '/srv/datos/ENVIO_ABRIL/Tortuosos/Tortuosos_45/10435_45_s.jpg',\n",
       " '/srv/datos/ENVIO_ABRIL/No_tortuosos/No_tortuosos_spider/10548_SPIDER_n.jpg',\n",
       " '/srv/datos/ENVIO_ABRIL/No_tortuosos/No_tortuosos_spider/8305_SPIDER_n.png',\n",
       " '/srv/datos/ENVIO_ABRIL/Tortuosos/Tortuosos_spider/11337_SPIDER_s.jpg',\n",
       " '/srv/datos/ENVIO_ABRIL/Tortuosos/Tortuosos_spider/5567_SPIDER_s.jpg']"
      ]
     },
     "execution_count": 12,
     "metadata": {},
     "output_type": "execute_result"
    }
   ],
   "source": [
    "# fold 2\n",
    "wrong_predictions"
   ]
  },
  {
   "cell_type": "code",
   "execution_count": 26,
   "metadata": {},
   "outputs": [
    {
     "data": {
      "text/plain": [
       "['/srv/datos/ENVIO_ABRIL/No_tortuosos/No_tortuosos_spider/5990_SPIDER_n.jpg',\n",
       " '/srv/datos/ENVIO_ABRIL/Tortuosos/Tortuosos_spider/8165_SPIDER_s.jpg',\n",
       " '/srv/datos/ENVIO_ABRIL/Tortuosos/Tortuosos_45/4161_45_s.jpg']"
      ]
     },
     "execution_count": 26,
     "metadata": {},
     "output_type": "execute_result"
    }
   ],
   "source": [
    "# fold 1\n",
    "wrong_predictions"
   ]
  },
  {
   "cell_type": "code",
   "execution_count": null,
   "metadata": {},
   "outputs": [],
   "source": []
  }
 ],
 "metadata": {
  "kernelspec": {
   "display_name": "Python 3",
   "language": "python",
   "name": "python3"
  },
  "language_info": {
   "codemirror_mode": {
    "name": "ipython",
    "version": 3
   },
   "file_extension": ".py",
   "mimetype": "text/x-python",
   "name": "python",
   "nbconvert_exporter": "python",
   "pygments_lexer": "ipython3",
   "version": "3.6.8"
  }
 },
 "nbformat": 4,
 "nbformat_minor": 4
}
