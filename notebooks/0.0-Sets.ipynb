{
 "cells": [
  {
   "cell_type": "markdown",
   "metadata": {},
   "source": [
    "# 0.0 Divide your data into distributed train, val and test sets\n",
    "\n",
    "Our file todo.txt contains all the images and its corresponding classes. Now we want to split our images into train, val and test files, so that the classes are well distributed (e.g. if the dataset is highly imbalanced the images are not randomly separated)."
   ]
  },
  {
   "cell_type": "code",
   "execution_count": 6,
   "metadata": {},
   "outputs": [],
   "source": [
    "import os\n",
    "\n",
    "import matplotlib.pylab as plt\n",
    "import numpy as np\n",
    "import pandas as pd\n",
    "\n",
    "# import imgclas\n",
    "from imgclas import paths, config\n",
    "# from imgclas.data_utils import load_image, load_data_splits, augment, load_class_names\n",
    "\n",
    "from sklearn.model_selection import train_test_split\n",
    "\n",
    "CONF = config.get_conf_dict()\n",
    "\n",
    "# Customize your image folder if needed\n",
    "# CONF['general']['images_directory'] = '/media/ignacio/Datos/datasets/semillas/datasets'  # absolute path to image_folder\n",
    "\n",
    "# splits_dir = paths.get_splits_dir()\n",
    "splits_dir = '/home/jovyan/image-classification-tf/data/dataset_files/'\n",
    "\n",
    "# Load the data\n",
    "data = pd.read_csv(splits_dir+'patientsAll_Corrected.txt', sep=\"*\", header=None, names=['image', 'clase'])"
   ]
  },
  {
   "cell_type": "code",
   "execution_count": 7,
   "metadata": {},
   "outputs": [
    {
     "data": {
      "text/html": [
       "<div>\n",
       "<style scoped>\n",
       "    .dataframe tbody tr th:only-of-type {\n",
       "        vertical-align: middle;\n",
       "    }\n",
       "\n",
       "    .dataframe tbody tr th {\n",
       "        vertical-align: top;\n",
       "    }\n",
       "\n",
       "    .dataframe thead th {\n",
       "        text-align: right;\n",
       "    }\n",
       "</style>\n",
       "<table border=\"1\" class=\"dataframe\">\n",
       "  <thead>\n",
       "    <tr style=\"text-align: right;\">\n",
       "      <th></th>\n",
       "      <th>image</th>\n",
       "      <th>clase</th>\n",
       "    </tr>\n",
       "  </thead>\n",
       "  <tbody>\n",
       "    <tr>\n",
       "      <th>0</th>\n",
       "      <td>/home/jovyan/datos/GrupoA_Revision_BC/10527/10...</td>\n",
       "      <td>0</td>\n",
       "    </tr>\n",
       "    <tr>\n",
       "      <th>1</th>\n",
       "      <td>/home/jovyan/datos/GrupoA_Revision_BC/10489/10...</td>\n",
       "      <td>0</td>\n",
       "    </tr>\n",
       "    <tr>\n",
       "      <th>2</th>\n",
       "      <td>/home/jovyan/datos/GrupoA_Revision_BC/8139/813...</td>\n",
       "      <td>0</td>\n",
       "    </tr>\n",
       "    <tr>\n",
       "      <th>3</th>\n",
       "      <td>/home/jovyan/datos/GrupoA_Revision_BC/7203/720...</td>\n",
       "      <td>0</td>\n",
       "    </tr>\n",
       "    <tr>\n",
       "      <th>4</th>\n",
       "      <td>/home/jovyan/datos/GrupoA_Revision_BC/7393/739...</td>\n",
       "      <td>0</td>\n",
       "    </tr>\n",
       "    <tr>\n",
       "      <th>...</th>\n",
       "      <td>...</td>\n",
       "      <td>...</td>\n",
       "    </tr>\n",
       "    <tr>\n",
       "      <th>95</th>\n",
       "      <td>/home/jovyan/datos/Tortuosos/10310/10310_SPIDE...</td>\n",
       "      <td>1</td>\n",
       "    </tr>\n",
       "    <tr>\n",
       "      <th>96</th>\n",
       "      <td>/home/jovyan/datos/Tortuosos/9546/9546_SPIDER_...</td>\n",
       "      <td>1</td>\n",
       "    </tr>\n",
       "    <tr>\n",
       "      <th>97</th>\n",
       "      <td>/home/jovyan/datos/Tortuosos/1805/1805_spider_...</td>\n",
       "      <td>1</td>\n",
       "    </tr>\n",
       "    <tr>\n",
       "      <th>98</th>\n",
       "      <td>/home/jovyan/datos/Tortuosos/3824/3824_spider_...</td>\n",
       "      <td>1</td>\n",
       "    </tr>\n",
       "    <tr>\n",
       "      <th>99</th>\n",
       "      <td>/home/jovyan/datos/Tortuosos/1663/1663_spider_...</td>\n",
       "      <td>1</td>\n",
       "    </tr>\n",
       "  </tbody>\n",
       "</table>\n",
       "<p>100 rows × 2 columns</p>\n",
       "</div>"
      ],
      "text/plain": [
       "                                                image  clase\n",
       "0   /home/jovyan/datos/GrupoA_Revision_BC/10527/10...      0\n",
       "1   /home/jovyan/datos/GrupoA_Revision_BC/10489/10...      0\n",
       "2   /home/jovyan/datos/GrupoA_Revision_BC/8139/813...      0\n",
       "3   /home/jovyan/datos/GrupoA_Revision_BC/7203/720...      0\n",
       "4   /home/jovyan/datos/GrupoA_Revision_BC/7393/739...      0\n",
       "..                                                ...    ...\n",
       "95  /home/jovyan/datos/Tortuosos/10310/10310_SPIDE...      1\n",
       "96  /home/jovyan/datos/Tortuosos/9546/9546_SPIDER_...      1\n",
       "97  /home/jovyan/datos/Tortuosos/1805/1805_spider_...      1\n",
       "98  /home/jovyan/datos/Tortuosos/3824/3824_spider_...      1\n",
       "99  /home/jovyan/datos/Tortuosos/1663/1663_spider_...      1\n",
       "\n",
       "[100 rows x 2 columns]"
      ]
     },
     "execution_count": 7,
     "metadata": {},
     "output_type": "execute_result"
    }
   ],
   "source": [
    "data"
   ]
  },
  {
   "cell_type": "code",
   "execution_count": 8,
   "metadata": {},
   "outputs": [
    {
     "name": "stdout",
     "output_type": "stream",
     "text": [
      "Counter({0: 59, 1: 41})\n"
     ]
    }
   ],
   "source": [
    "# https://machisnelearningmastery.com/train-test-split-for-evaluating-machine-learning-algorithms/\n",
    "from collections import Counter\n",
    "print(Counter(data.clase))"
   ]
  },
  {
   "cell_type": "code",
   "execution_count": 19,
   "metadata": {},
   "outputs": [
    {
     "name": "stdout",
     "output_type": "stream",
     "text": [
      "Counter({0: 53, 1: 37})\n",
      "Counter({0: 6, 1: 4})\n"
     ]
    }
   ],
   "source": [
    "# split into train test sets\n",
    "X_train, X_2, y_train, y_2 = train_test_split(data.image, data.clase, test_size=0.1, random_state=1, stratify=data.clase)\n",
    "print(Counter(y_train))\n",
    "print(Counter(y_2))"
   ]
  },
  {
   "cell_type": "code",
   "execution_count": 20,
   "metadata": {},
   "outputs": [
    {
     "name": "stdout",
     "output_type": "stream",
     "text": [
      "Counter({0: 3, 1: 2})\n",
      "Counter({0: 3, 1: 2})\n"
     ]
    }
   ],
   "source": [
    "X_test, X_val, y_test, y_val = train_test_split(X_2, y_2, test_size=0.5, random_state=1, stratify=y_2)\n",
    "print(Counter(y_test))\n",
    "print(Counter(y_val))"
   ]
  },
  {
   "cell_type": "code",
   "execution_count": 21,
   "metadata": {},
   "outputs": [],
   "source": [
    "train=pd.DataFrame(data={'image': X_train, 'clase': y_train})\n",
    "train.to_csv(r'//home/jovyan/image-classification-tf/data/dataset_files/train.txt', sep=' ', index=None, header=None, mode='a')"
   ]
  },
  {
   "cell_type": "code",
   "execution_count": 22,
   "metadata": {},
   "outputs": [],
   "source": [
    "val=pd.DataFrame(data={'image': X_val, 'clase': y_val})\n",
    "val.to_csv(r'/home/jovyan/image-classification-tf/data/dataset_files/val.txt', sep=' ', index=None, header=None, mode='a')"
   ]
  },
  {
   "cell_type": "code",
   "execution_count": 23,
   "metadata": {},
   "outputs": [],
   "source": [
    "test=pd.DataFrame(data={'image': X_test, 'clase': y_test})\n",
    "test.to_csv(r'/home/jovyan/image-classification-tf/data/dataset_files/test.txt', sep=' ', index=None, header=None, mode='a')"
   ]
  },
  {
   "cell_type": "code",
   "execution_count": 24,
   "metadata": {},
   "outputs": [
    {
     "data": {
      "text/plain": [
       "90"
      ]
     },
     "execution_count": 24,
     "metadata": {},
     "output_type": "execute_result"
    }
   ],
   "source": [
    "len(train)"
   ]
  },
  {
   "cell_type": "code",
   "execution_count": 25,
   "metadata": {},
   "outputs": [
    {
     "data": {
      "text/plain": [
       "5"
      ]
     },
     "execution_count": 25,
     "metadata": {},
     "output_type": "execute_result"
    }
   ],
   "source": [
    "len(test)"
   ]
  },
  {
   "cell_type": "code",
   "execution_count": 26,
   "metadata": {},
   "outputs": [
    {
     "data": {
      "text/plain": [
       "5"
      ]
     },
     "execution_count": 26,
     "metadata": {},
     "output_type": "execute_result"
    }
   ],
   "source": [
    "len(val)"
   ]
  }
 ],
 "metadata": {
  "kernelspec": {
   "display_name": "Python 3",
   "language": "python",
   "name": "python3"
  },
  "language_info": {
   "codemirror_mode": {
    "name": "ipython",
    "version": 3
   },
   "file_extension": ".py",
   "mimetype": "text/x-python",
   "name": "python",
   "nbconvert_exporter": "python",
   "pygments_lexer": "ipython3",
   "version": "3.7.1"
  }
 },
 "nbformat": 4,
 "nbformat_minor": 4
}
