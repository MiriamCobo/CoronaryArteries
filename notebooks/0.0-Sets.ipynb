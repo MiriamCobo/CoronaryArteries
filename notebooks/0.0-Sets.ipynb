{
 "cells": [
  {
   "cell_type": "markdown",
   "metadata": {},
   "source": [
    "# 0.0 Divide your data into distributed train, val and test sets\n",
    "\n",
    "Our file todo.txt contains all the images and its corresponding classes. Now we want to split our images into train, val and test files, so that the classes are well distributed (e.g. if the dataset is highly imbalanced the images are not randomly separated)."
   ]
  },
  {
   "cell_type": "code",
   "execution_count": 4,
   "metadata": {},
   "outputs": [],
   "source": [
    "import os\n",
    "\n",
    "import matplotlib.pylab as plt\n",
    "import numpy as np\n",
    "import pandas as pd\n",
    "\n",
    "# import imgclas\n",
    "from imgclas import paths, config\n",
    "# from imgclas.data_utils import load_image, load_data_splits, augment, load_class_names\n",
    "\n",
    "from sklearn.model_selection import train_test_split\n",
    "\n",
    "CONF = config.get_conf_dict()\n",
    "\n",
    "# Customize your image folder if needed\n",
    "# CONF['general']['images_directory'] = '/media/ignacio/Datos/datasets/semillas/datasets'  # absolute path to image_folder\n",
    "\n",
    "# splits_dir = paths.get_splits_dir()\n",
    "splits_dir = '/srv/Files_Envio_Definitivo/SPIDER/'\n",
    "\n",
    "# Load the data\n",
    "data = pd.read_csv(splits_dir+'Patients_SPIDER_all.txt', sep=\"*\", header=None, names=['image', 'clase'])"
   ]
  },
  {
   "cell_type": "code",
   "execution_count": 5,
   "metadata": {},
   "outputs": [
    {
     "data": {
      "text/html": [
       "<div>\n",
       "<style scoped>\n",
       "    .dataframe tbody tr th:only-of-type {\n",
       "        vertical-align: middle;\n",
       "    }\n",
       "\n",
       "    .dataframe tbody tr th {\n",
       "        vertical-align: top;\n",
       "    }\n",
       "\n",
       "    .dataframe thead th {\n",
       "        text-align: right;\n",
       "    }\n",
       "</style>\n",
       "<table border=\"1\" class=\"dataframe\">\n",
       "  <thead>\n",
       "    <tr style=\"text-align: right;\">\n",
       "      <th></th>\n",
       "      <th>image</th>\n",
       "      <th>clase</th>\n",
       "    </tr>\n",
       "  </thead>\n",
       "  <tbody>\n",
       "    <tr>\n",
       "      <th>0</th>\n",
       "      <td>/srv/datos/ENVIO_DEFINITIVO/NO_TORTUOSOS_OFICI...</td>\n",
       "      <td>0</td>\n",
       "    </tr>\n",
       "    <tr>\n",
       "      <th>1</th>\n",
       "      <td>/srv/datos/ENVIO_DEFINITIVO/NO_TORTUOSOS_OFICI...</td>\n",
       "      <td>0</td>\n",
       "    </tr>\n",
       "    <tr>\n",
       "      <th>2</th>\n",
       "      <td>/srv/datos/ENVIO_DEFINITIVO/NO_TORTUOSOS_OFICI...</td>\n",
       "      <td>0</td>\n",
       "    </tr>\n",
       "    <tr>\n",
       "      <th>3</th>\n",
       "      <td>/srv/datos/ENVIO_DEFINITIVO/NO_TORTUOSOS_OFICI...</td>\n",
       "      <td>0</td>\n",
       "    </tr>\n",
       "    <tr>\n",
       "      <th>4</th>\n",
       "      <td>/srv/datos/ENVIO_DEFINITIVO/NO_TORTUOSOS_OFICI...</td>\n",
       "      <td>0</td>\n",
       "    </tr>\n",
       "    <tr>\n",
       "      <th>...</th>\n",
       "      <td>...</td>\n",
       "      <td>...</td>\n",
       "    </tr>\n",
       "    <tr>\n",
       "      <th>396</th>\n",
       "      <td>/srv/datos/ENVIO_DEFINITIVO/TORTUOSOS_SPIDER/9...</td>\n",
       "      <td>1</td>\n",
       "    </tr>\n",
       "    <tr>\n",
       "      <th>397</th>\n",
       "      <td>/srv/datos/ENVIO_DEFINITIVO/TORTUOSOS_SPIDER/7...</td>\n",
       "      <td>1</td>\n",
       "    </tr>\n",
       "    <tr>\n",
       "      <th>398</th>\n",
       "      <td>/srv/datos/ENVIO_DEFINITIVO/TORTUOSOS_SPIDER/4...</td>\n",
       "      <td>1</td>\n",
       "    </tr>\n",
       "    <tr>\n",
       "      <th>399</th>\n",
       "      <td>/srv/datos/ENVIO_DEFINITIVO/TORTUOSOS_SPIDER/6...</td>\n",
       "      <td>1</td>\n",
       "    </tr>\n",
       "    <tr>\n",
       "      <th>400</th>\n",
       "      <td>/srv/datos/ENVIO_DEFINITIVO/TORTUOSOS_SPIDER/P...</td>\n",
       "      <td>1</td>\n",
       "    </tr>\n",
       "  </tbody>\n",
       "</table>\n",
       "<p>401 rows × 2 columns</p>\n",
       "</div>"
      ],
      "text/plain": [
       "                                                 image  clase\n",
       "0    /srv/datos/ENVIO_DEFINITIVO/NO_TORTUOSOS_OFICI...      0\n",
       "1    /srv/datos/ENVIO_DEFINITIVO/NO_TORTUOSOS_OFICI...      0\n",
       "2    /srv/datos/ENVIO_DEFINITIVO/NO_TORTUOSOS_OFICI...      0\n",
       "3    /srv/datos/ENVIO_DEFINITIVO/NO_TORTUOSOS_OFICI...      0\n",
       "4    /srv/datos/ENVIO_DEFINITIVO/NO_TORTUOSOS_OFICI...      0\n",
       "..                                                 ...    ...\n",
       "396  /srv/datos/ENVIO_DEFINITIVO/TORTUOSOS_SPIDER/9...      1\n",
       "397  /srv/datos/ENVIO_DEFINITIVO/TORTUOSOS_SPIDER/7...      1\n",
       "398  /srv/datos/ENVIO_DEFINITIVO/TORTUOSOS_SPIDER/4...      1\n",
       "399  /srv/datos/ENVIO_DEFINITIVO/TORTUOSOS_SPIDER/6...      1\n",
       "400  /srv/datos/ENVIO_DEFINITIVO/TORTUOSOS_SPIDER/P...      1\n",
       "\n",
       "[401 rows x 2 columns]"
      ]
     },
     "execution_count": 5,
     "metadata": {},
     "output_type": "execute_result"
    }
   ],
   "source": [
    "data"
   ]
  },
  {
   "cell_type": "code",
   "execution_count": 6,
   "metadata": {},
   "outputs": [
    {
     "data": {
      "text/plain": [
       "0    204\n",
       "1    197\n",
       "Name: clase, dtype: int64"
      ]
     },
     "execution_count": 6,
     "metadata": {},
     "output_type": "execute_result"
    }
   ],
   "source": [
    "data.clase.value_counts()"
   ]
  },
  {
   "cell_type": "code",
   "execution_count": 54,
   "metadata": {},
   "outputs": [
    {
     "name": "stdout",
     "output_type": "stream",
     "text": [
      "Fold:1, Train set: 320, Val set:40, Test set:40\n",
      "Fold:2, Train set: 320, Val set:40, Test set:40\n",
      "Fold:3, Train set: 320, Val set:40, Test set:40\n",
      "Fold:4, Train set: 320, Val set:40, Test set:40\n",
      "Fold:5, Train set: 320, Val set:40, Test set:40\n"
     ]
    }
   ],
   "source": [
    "# cross validation https://scikit-learn.org/stable/auto_examples/model_selection/plot_cv_indices.html\n",
    "# Stratified K Fold Cross Validation\n",
    "from sklearn.model_selection import StratifiedKFold\n",
    "kf = StratifiedKFold(n_splits=5, shuffle=True, random_state=4)\n",
    "X=data.image\n",
    "y=data.clase\n",
    "count = 1\n",
    "# split()  method generate indices to split data into training and test set\n",
    "for train_index, test_val_index in kf.split(X, y):\n",
    "    X_train, X_test_val = X[train_index], X[test_index]\n",
    "    y_train, y_test_val = y[train_index], y[test_index]\n",
    "    X_test, X_val, y_test, y_val = train_test_split(X_test_val, y_test_val, test_size=0.5, random_state=1, stratify=y_test_val)\n",
    "    # train\n",
    "    train=pd.DataFrame(data={'image': X_train, 'clase': y_train})\n",
    "    train.to_csv(r'/srv/Files_Envio_Oficial/45/train'+str(count)+'.txt', sep=' ', index=None, header=None, mode='a')\n",
    "    # val\n",
    "    val=pd.DataFrame(data={'image': X_val, 'clase': y_val})\n",
    "    val.to_csv(r'/srv/Files_Envio_Oficial/45/val'+str(count)+'.txt', sep=' ', index=None, header=None, mode='a')\n",
    "    # test\n",
    "    test=pd.DataFrame(data={'image': X_test, 'clase': y_test})\n",
    "    test.to_csv(r'/srv/Files_Envio_Oficial/45/test'+str(count)+'.txt', sep=' ', index=None, header=None, mode='a')\n",
    "    print(f'Fold:{count}, Train set: {len(train_index)}, Val set:{len(y_val)}, Test set:{len(y_test)}')\n",
    "    count+=1"
   ]
  },
  {
   "cell_type": "code",
   "execution_count": 3,
   "metadata": {},
   "outputs": [
    {
     "name": "stdout",
     "output_type": "stream",
     "text": [
      "Counter({0: 201, 1: 200})\n"
     ]
    }
   ],
   "source": [
    "# https://machisnelearningmastery.com/train-test-split-for-evaluating-machine-learning-algorithms/\n",
    "from collections import Counter\n",
    "print(Counter(data.clase))"
   ]
  },
  {
   "cell_type": "code",
   "execution_count": 5,
   "metadata": {},
   "outputs": [
    {
     "name": "stdout",
     "output_type": "stream",
     "text": [
      "Counter({1: 170, 0: 170})\n",
      "Counter({0: 31, 1: 30})\n"
     ]
    }
   ],
   "source": [
    "# split into train test sets\n",
    "X_train, X_2, y_train, y_2 = train_test_split(data.image, data.clase, test_size=0.15, random_state=1, stratify=data.clase)\n",
    "print(Counter(y_train))\n",
    "print(Counter(y_2))"
   ]
  },
  {
   "cell_type": "code",
   "execution_count": 8,
   "metadata": {},
   "outputs": [
    {
     "name": "stdout",
     "output_type": "stream",
     "text": [
      "Counter({0: 16, 1: 15})\n",
      "Counter({1: 15, 0: 15})\n"
     ]
    }
   ],
   "source": [
    "X_test, X_val, y_test, y_val = train_test_split(X_2, y_2, test_size=0.49, random_state=1, stratify=y_2)\n",
    "print(Counter(y_test))\n",
    "print(Counter(y_val))"
   ]
  },
  {
   "cell_type": "code",
   "execution_count": 9,
   "metadata": {},
   "outputs": [],
   "source": [
    "train=pd.DataFrame(data={'image': X_train, 'clase': y_train})\n",
    "train.to_csv(r'/srv/image-classification-tf/data/dataset_files/train.txt', sep=' ', index=None, header=None, mode='a')"
   ]
  },
  {
   "cell_type": "code",
   "execution_count": 10,
   "metadata": {},
   "outputs": [],
   "source": [
    "val=pd.DataFrame(data={'image': X_val, 'clase': y_val})\n",
    "val.to_csv(r'/srv/image-classification-tf/data/dataset_files/val.txt', sep=' ', index=None, header=None, mode='a')"
   ]
  },
  {
   "cell_type": "code",
   "execution_count": 11,
   "metadata": {},
   "outputs": [],
   "source": [
    "test=pd.DataFrame(data={'image': X_test, 'clase': y_test})\n",
    "test.to_csv(r'/srv/image-classification-tf/data/dataset_files/test.txt', sep=' ', index=None, header=None, mode='a')"
   ]
  },
  {
   "cell_type": "code",
   "execution_count": 12,
   "metadata": {},
   "outputs": [
    {
     "data": {
      "text/plain": [
       "340"
      ]
     },
     "execution_count": 12,
     "metadata": {},
     "output_type": "execute_result"
    }
   ],
   "source": [
    "len(train)"
   ]
  },
  {
   "cell_type": "code",
   "execution_count": 13,
   "metadata": {},
   "outputs": [
    {
     "data": {
      "text/plain": [
       "31"
      ]
     },
     "execution_count": 13,
     "metadata": {},
     "output_type": "execute_result"
    }
   ],
   "source": [
    "len(test)"
   ]
  },
  {
   "cell_type": "code",
   "execution_count": 14,
   "metadata": {},
   "outputs": [
    {
     "data": {
      "text/plain": [
       "30"
      ]
     },
     "execution_count": 14,
     "metadata": {},
     "output_type": "execute_result"
    }
   ],
   "source": [
    "len(val)"
   ]
  },
  {
   "cell_type": "code",
   "execution_count": 65,
   "metadata": {},
   "outputs": [],
   "source": [
    "# append spider and 45 angiographies together to create only 5 different models\n",
    "# Reading data from file1\n",
    "with open(r'/srv/Files_Envio_Oficial/45/test5.txt') as fp:\n",
    "    data = fp.read()\n",
    "    \n",
    "with open(r'/srv/Files_Envio_Oficial/45/val5.txt') as fp:\n",
    "    data3 = fp.read()\n",
    "    \n",
    "# Reading data from file2\n",
    "with open(r'/srv/Files_Envio_Oficial/SPIDER/test5.txt') as fp:\n",
    "    data2 = fp.read()\n",
    "    \n",
    "with open(r'/srv/Files_Envio_Oficial/SPIDER/val5.txt') as fp:\n",
    "    data4 = fp.read()\n",
    "    \n",
    "# Merging 2 files\n",
    "# To add the data of file2\n",
    "# from next line\n",
    "data += data2\n",
    "data3 += data4\n",
    "  \n",
    "with open (r'/srv/Files_Envio_Oficial/test5', 'a') as fp:\n",
    "    fp.write(data)\n",
    "    \n",
    "with open (r'/srv/Files_Envio_Oficial/val5', 'a') as fp:\n",
    "    fp.write(data3)"
   ]
  },
  {
   "cell_type": "code",
   "execution_count": null,
   "metadata": {},
   "outputs": [],
   "source": []
  }
 ],
 "metadata": {
  "kernelspec": {
   "display_name": "Python 3",
   "language": "python",
   "name": "python3"
  },
  "language_info": {
   "codemirror_mode": {
    "name": "ipython",
    "version": 3
   },
   "file_extension": ".py",
   "mimetype": "text/x-python",
   "name": "python",
   "nbconvert_exporter": "python",
   "pygments_lexer": "ipython3",
   "version": "3.6.8"
  }
 },
 "nbformat": 4,
 "nbformat_minor": 4
}
