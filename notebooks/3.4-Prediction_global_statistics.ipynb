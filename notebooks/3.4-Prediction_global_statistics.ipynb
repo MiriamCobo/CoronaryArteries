{
 "cells": [
  {
   "cell_type": "markdown",
   "metadata": {},
   "source": [
    "Computing the global statistics of the predictions when we train different models from a cross-validation approach."
   ]
  },
  {
   "cell_type": "code",
   "execution_count": 7,
   "metadata": {},
   "outputs": [
    {
     "name": "stdout",
     "output_type": "stream",
     "text": [
      "Loading class names...\n",
      "Loading class names...\n",
      "Loading class names...\n",
      "Loading class names...\n",
      "Loading class names...\n"
     ]
    }
   ],
   "source": [
    "import os\n",
    "import json\n",
    "import numpy as np\n",
    "\n",
    "from imgclas.data_utils import load_image, load_class_names\n",
    "from imgclas import paths, plot_utils\n",
    "\n",
    "from imgclas import test_utils\n",
    "from sklearn.metrics import accuracy_score, precision_score, recall_score, f1_score\n",
    "from sklearn.metrics import confusion_matrix\n",
    "\n",
    "import warnings\n",
    "warnings.filterwarnings(\"ignore\") # To ignore UndefinedMetricWarning: [Recall/Precision/F-Score] is ill-defined and being set to 0.0 in labels with no [true/predicted] samples.\n",
    "\n",
    "# User parameters to set\n",
    "timestamp = ['2022-03-22_TortSp1_50ep_4Batch', '2022-03-23_TortSp2_50ep_4Batch',\n",
    "            '2022-03-31_TortSp3_16ep_stop_8Batch', '2022-03-31_TortSp4_25ep_stop_8Batch',\n",
    "            '2022-04-01_TortSp5_22ep_stop_8Batch']      # timestamp of the model\n",
    "SPLIT_NAME = 'test'                   # dataset split to predict\n",
    "MODEL_NAME = 'final_model.h5'         # model to use to make the mediction\n",
    "TOP_K = 2                             # number of top classes predictions to save\n",
    "\n",
    "accs = []\n",
    "sens = []\n",
    "specs = []\n",
    "for TIMESTAMP in timestamp:\n",
    "\n",
    "    # Set the timestamp\n",
    "    paths.timestamp = TIMESTAMP\n",
    "\n",
    "    # Load clas names\n",
    "    class_names = load_class_names(splits_dir=paths.get_ts_splits_dir())\n",
    "\n",
    "    # Load back the predictions\n",
    "    pred_path = os.path.join(paths.get_predictions_dir(), '{}+{}+top{}.json'.format(MODEL_NAME, SPLIT_NAME, TOP_K))\n",
    "    with open(pred_path) as f:\n",
    "        pred_dict = json.load(f)\n",
    "    \n",
    "    # accuracy\n",
    "    true_lab, pred_lab = np.array(pred_dict['true_lab']), np.array(pred_dict['pred_lab'])\n",
    "    top1 = test_utils.topK_accuracy(true_lab, pred_lab, K=1)\n",
    "    accs.append(top1)\n",
    "    \n",
    "    y_pred = np.array([item[0] for item in pred_lab])\n",
    "    # standard confussion matrix\n",
    "    TN, FP, FN, TP = confusion_matrix(true_lab, y_pred, labels=[0, 1]).ravel()\n",
    "    sensitivity  = TP/(TP+FN)\n",
    "    specificity  = TN/(TN+FP)\n",
    "    pos_pred_val = TP/(TP+FP)\n",
    "    neg_pred_val = TN/(TN+FN)\n",
    "    sens.append(sensitivity)\n",
    "    specs.append(specificity)"
   ]
  },
  {
   "cell_type": "code",
   "execution_count": 8,
   "metadata": {},
   "outputs": [
    {
     "data": {
      "text/plain": [
       "[0.825, 0.875, 0.825, 0.825, 0.825]"
      ]
     },
     "execution_count": 8,
     "metadata": {},
     "output_type": "execute_result"
    }
   ],
   "source": [
    "accs"
   ]
  },
  {
   "cell_type": "code",
   "execution_count": 9,
   "metadata": {},
   "outputs": [
    {
     "data": {
      "text/plain": [
       "[0.8, 0.8, 0.9, 0.8571428571428571, 0.7619047619047619]"
      ]
     },
     "execution_count": 9,
     "metadata": {},
     "output_type": "execute_result"
    }
   ],
   "source": [
    "specs"
   ]
  },
  {
   "cell_type": "code",
   "execution_count": 10,
   "metadata": {},
   "outputs": [
    {
     "data": {
      "text/plain": [
       "[0.85, 0.95, 0.75, 0.7894736842105263, 0.8947368421052632]"
      ]
     },
     "execution_count": 10,
     "metadata": {},
     "output_type": "execute_result"
    }
   ],
   "source": [
    "sens"
   ]
  }
 ],
 "metadata": {
  "kernelspec": {
   "display_name": "Python 3",
   "language": "python",
   "name": "python3"
  },
  "language_info": {
   "codemirror_mode": {
    "name": "ipython",
    "version": 3
   },
   "file_extension": ".py",
   "mimetype": "text/x-python",
   "name": "python",
   "nbconvert_exporter": "python",
   "pygments_lexer": "ipython3",
   "version": "3.6.8"
  }
 },
 "nbformat": 4,
 "nbformat_minor": 4
}
